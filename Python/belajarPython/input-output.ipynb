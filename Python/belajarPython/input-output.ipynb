{
 "cells": [
  {
   "cell_type": "code",
   "execution_count": 1,
   "id": "d032127c-436f-4908-a807-ae793a519bdd",
   "metadata": {},
   "outputs": [
    {
     "name": "stdout",
     "output_type": "stream",
     "text": [
      "hello\n"
     ]
    },
    {
     "name": "stdin",
     "output_type": "stream",
     "text": [
      "what is your name? egaaa\n"
     ]
    },
    {
     "data": {
      "text/plain": [
       "'egaaa'"
      ]
     },
     "execution_count": 1,
     "metadata": {},
     "output_type": "execute_result"
    }
   ],
   "source": [
    "print(\"hello\")\n",
    "input(\"what is your name?\")"
   ]
  },
  {
   "cell_type": "code",
   "execution_count": 3,
   "id": "4af1c1a9-9d8d-4a28-ae5a-54edf0dcee82",
   "metadata": {},
   "outputs": [
    {
     "name": "stdin",
     "output_type": "stream",
     "text": [
      "siapa namamu? ajslkgjajl\n"
     ]
    },
    {
     "name": "stdout",
     "output_type": "stream",
     "text": [
      "ohh namamu ajslkgjajl\n"
     ]
    }
   ],
   "source": [
    "#untuk menyimpan input dapat dilakukan dengan membuat variabel penampung\n",
    "tampung = input(\"siapa namamu?\")\n",
    "print(\"ohh namamu\" + \" \" + tampung)"
   ]
  },
  {
   "cell_type": "code",
   "execution_count": 13,
   "id": "6f0ad9b5-035a-4f3b-8ea1-90d2b6fd4296",
   "metadata": {},
   "outputs": [
    {
     "name": "stdout",
     "output_type": "stream",
     "text": [
      "siapa namamu? ega\n"
     ]
    },
    {
     "name": "stdout",
     "output_type": "stream",
     "text": [
      "hello ega\n"
     ]
    }
   ],
   "source": [
    "#menggabung sintak input output\n",
    "print(\"hello\" + \" \" + input(\"siapa namamu?\"))"
   ]
  },
  {
   "cell_type": "code",
   "execution_count": null,
   "id": "8f3db598-9e0c-4ef7-a994-fafe781053d6",
   "metadata": {},
   "outputs": [],
   "source": []
  }
 ],
 "metadata": {
  "kernelspec": {
   "display_name": "Python [conda env:base] *",
   "language": "python",
   "name": "conda-base-py"
  },
  "language_info": {
   "codemirror_mode": {
    "name": "ipython",
    "version": 3
   },
   "file_extension": ".py",
   "mimetype": "text/x-python",
   "name": "python",
   "nbconvert_exporter": "python",
   "pygments_lexer": "ipython3",
   "version": "3.12.7"
  }
 },
 "nbformat": 4,
 "nbformat_minor": 5
}
